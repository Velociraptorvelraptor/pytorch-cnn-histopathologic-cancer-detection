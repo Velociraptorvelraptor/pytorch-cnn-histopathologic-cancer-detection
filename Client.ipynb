{
 "cells": [
  {
   "cell_type": "code",
   "execution_count": 1,
   "id": "9b6db320",
   "metadata": {},
   "outputs": [],
   "source": [
    "import requests"
   ]
  },
  {
   "cell_type": "code",
   "execution_count": 2,
   "id": "b2e37fe6",
   "metadata": {},
   "outputs": [
    {
     "name": "stdout",
     "output_type": "stream",
     "text": [
      "{'cancer_or_not': 'true'}\n"
     ]
    }
   ],
   "source": [
    "server_url = 'http://127.0.0.1:5000/predict'\n",
    "path = '/Users/maks.sedzielski@nordcloud.com/Downloads/0063282e872227f4955cffcff98bb9a1fad595a5.tif'\n",
    "files = {'image': open(path, 'rb')}\n",
    "resp = requests.post(server_url, files=files)\n",
    "print(resp.json())"
   ]
  },
  {
   "cell_type": "markdown",
   "id": "6ab27830",
   "metadata": {},
   "source": [
    "Use curl alternatively:\n",
    "\n",
    "curl -F 'image=@/Users/maks.sedzielski@nordcloud.com/Downloads/0063282e872227f4955cffcff98bb9a1fad595a5.tif' http://localhost:5000/predict -v"
   ]
  }
 ],
 "metadata": {
  "kernelspec": {
   "display_name": "Python 3 (ipykernel)",
   "language": "python",
   "name": "python3"
  },
  "language_info": {
   "codemirror_mode": {
    "name": "ipython",
    "version": 3
   },
   "file_extension": ".py",
   "mimetype": "text/x-python",
   "name": "python",
   "nbconvert_exporter": "python",
   "pygments_lexer": "ipython3",
   "version": "3.9.10"
  }
 },
 "nbformat": 4,
 "nbformat_minor": 5
}
